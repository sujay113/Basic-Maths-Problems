{
 "cells": [
  {
   "cell_type": "markdown",
   "id": "a4ca8d50",
   "metadata": {},
   "source": [
    "# count the digits"
   ]
  },
  {
   "cell_type": "code",
   "execution_count": null,
   "id": "f330f144",
   "metadata": {},
   "outputs": [],
   "source": [
    "n=int(input(\"enter the number: \"))\n",
    "cnt=0\n",
    "while(n>0):\n",
    "    n=n//10\n",
    "    cnt=cnt+1\n",
    "print(cnt)"
   ]
  },
  {
   "cell_type": "markdown",
   "id": "0e8b48b7",
   "metadata": {},
   "source": [
    "# reverse the digit"
   ]
  },
  {
   "cell_type": "code",
   "execution_count": 9,
   "id": "a10aeb91",
   "metadata": {},
   "outputs": [
    {
     "name": "stdout",
     "output_type": "stream",
     "text": [
      "enter the number: 123\n",
      "321\n"
     ]
    }
   ],
   "source": [
    "n=int(input(\"enter the number: \"))\n",
    "rev=0\n",
    "while(n>0):\n",
    "    rem=n%10\n",
    "    n=n//10\n",
    "    rev=rev*10+rem\n",
    "print(rev)"
   ]
  },
  {
   "cell_type": "markdown",
   "id": "472a5ca6",
   "metadata": {},
   "source": [
    "\n",
    "# palindrome"
   ]
  },
  {
   "cell_type": "code",
   "execution_count": 12,
   "id": "e9bf10ef",
   "metadata": {},
   "outputs": [
    {
     "name": "stdout",
     "output_type": "stream",
     "text": [
      "enter the number: 121\n",
      "palinndrome\n"
     ]
    }
   ],
   "source": [
    "n=int(input(\"enter the number: \"))\n",
    "rev=0\n",
    "num=n\n",
    "while(n>0):\n",
    "    rem=n%10\n",
    "    n=n//10\n",
    "    rev=rev*10+rem\n",
    "if(num==rev):\n",
    "    print(\"palinndrome\")\n",
    "else:\n",
    "    print(\"Not palindrome\")"
   ]
  },
  {
   "cell_type": "markdown",
   "id": "3aab3ceb",
   "metadata": {},
   "source": [
    "# Armstrong number"
   ]
  },
  {
   "cell_type": "code",
   "execution_count": null,
   "id": "1d7876ec",
   "metadata": {},
   "outputs": [],
   "source": [
    "n=int(input(\"enter the number: \"))\n",
    "rev=0\n",
    "num=n\n",
    "while(n>0):\n",
    "    rem=n%10\n",
    "    n=n//10\n",
    "    rev=rev+rem**3\n",
    "if num==rev:\n",
    "    print(\"armstrong\")\n",
    "else:\n",
    "    print(\"not armstrong\")"
   ]
  },
  {
   "cell_type": "markdown",
   "id": "b5bb3ff7",
   "metadata": {},
   "source": [
    "# print all the divisors"
   ]
  },
  {
   "cell_type": "code",
   "execution_count": 32,
   "id": "f904634f",
   "metadata": {},
   "outputs": [
    {
     "name": "stdout",
     "output_type": "stream",
     "text": [
      "Enter the number: 36\n"
     ]
    }
   ],
   "source": [
    "n=int(input(\"Enter the number: \"))\n",
    "for i in range(1,n+1):\n",
    "    if n%i==0:\n",
    "        print(i,end=\" \")"
   ]
  },
  {
   "cell_type": "markdown",
   "id": "7191a467",
   "metadata": {},
   "source": [
    "# Prime number"
   ]
  },
  {
   "cell_type": "code",
   "execution_count": 43,
   "id": "576286df",
   "metadata": {},
   "outputs": [
    {
     "name": "stdout",
     "output_type": "stream",
     "text": [
      "Enter a number: 17\n",
      "prime\n"
     ]
    }
   ],
   "source": [
    "n=int(input(\"Enter a number: \"))\n",
    "cnt=0\n",
    "for i in range(2,n):\n",
    "    if n%i==0:\n",
    "        cnt+=1\n",
    "if cnt>=1:\n",
    "    print(\"not prime\")\n",
    "else:\n",
    "    print(\"prime\")\n",
    "\n",
    "    "
   ]
  },
  {
   "cell_type": "markdown",
   "id": "197ae2b3",
   "metadata": {},
   "source": [
    "# GCD"
   ]
  },
  {
   "cell_type": "code",
   "execution_count": 60,
   "id": "c6d0b8b3",
   "metadata": {},
   "outputs": [
    {
     "name": "stdout",
     "output_type": "stream",
     "text": [
      "Enter a number: 16\n",
      "Enter a number: 36\n",
      "16\n"
     ]
    }
   ],
   "source": [
    "n1=int(input(\"Enter a number: \"))\n",
    "n2=int(input(\"Enter a number: \"))\n",
    "if n1>n2:\n",
    "    min=n2\n",
    "else:\n",
    "    min=n1\n",
    "for i in range(1,min+1):\n",
    "    if(n1%i==0 and n2%i==0):\n",
    "        gcd=i\n",
    "print(gcd)"
   ]
  },
  {
   "cell_type": "code",
   "execution_count": 61,
   "id": "f6229af4",
   "metadata": {},
   "outputs": [
    {
     "name": "stdout",
     "output_type": "stream",
     "text": [
      "Enter a number: 16\n",
      "Enter a number: 36\n",
      "4\n"
     ]
    }
   ],
   "source": [
    "#for better complexity\n",
    "n1=int(input(\"Enter a number: \"))\n",
    "n2=int(input(\"Enter a number: \"))\n",
    "if n1>n2:\n",
    "    min=n2\n",
    "else:\n",
    "    min=n1\n",
    "for i in range(min,0,-1):\n",
    "    if(n1%i==0 and n2%i==0):\n",
    "        print(i)\n",
    "        break"
   ]
  },
  {
   "cell_type": "markdown",
   "id": "080674ec",
   "metadata": {},
   "source": [
    "# euclidean algorithm"
   ]
  },
  {
   "cell_type": "code",
   "execution_count": 64,
   "id": "3aa49f54",
   "metadata": {},
   "outputs": [
    {
     "name": "stdout",
     "output_type": "stream",
     "text": [
      "Enter a number: 16\n",
      "Enter a number: 36\n",
      "4\n"
     ]
    }
   ],
   "source": [
    "n1=int(input(\"Enter a number: \"))\n",
    "n2=int(input(\"Enter a number: \"))\n",
    "while(n1>0 and n2>0):\n",
    "    if(n1>n2):\n",
    "        n1=n1%n2\n",
    "    else:\n",
    "        n2=n2%n1\n",
    "if(n1==0):\n",
    "    print(n2)\n",
    "else:\n",
    "    print(n1)"
   ]
  },
  {
   "cell_type": "code",
   "execution_count": null,
   "id": "50ed8f28",
   "metadata": {},
   "outputs": [],
   "source": []
  }
 ],
 "metadata": {
  "kernelspec": {
   "display_name": "Python 3 (ipykernel)",
   "language": "python",
   "name": "python3"
  },
  "language_info": {
   "codemirror_mode": {
    "name": "ipython",
    "version": 3
   },
   "file_extension": ".py",
   "mimetype": "text/x-python",
   "name": "python",
   "nbconvert_exporter": "python",
   "pygments_lexer": "ipython3",
   "version": "3.9.12"
  }
 },
 "nbformat": 4,
 "nbformat_minor": 5
}
